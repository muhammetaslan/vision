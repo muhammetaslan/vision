{
  "nbformat": 4,
  "nbformat_minor": 0,
  "metadata": {
    "colab": {
      "name": "road_segmentation.ipynb",
      "provenance": [],
      "collapsed_sections": [],
      "authorship_tag": "ABX9TyNSzo+alY2eWRMPbTi2if7I",
      "include_colab_link": true
    },
    "kernelspec": {
      "name": "python3",
      "display_name": "Python 3"
    },
    "accelerator": "GPU"
  },
  "cells": [
    {
      "cell_type": "markdown",
      "metadata": {
        "id": "view-in-github",
        "colab_type": "text"
      },
      "source": [
        "<a href=\"https://colab.research.google.com/github/muhammetaslan/vision/blob/master/road_segmentation.ipynb\" target=\"_parent\"><img src=\"https://colab.research.google.com/assets/colab-badge.svg\" alt=\"Open In Colab\"/></a>"
      ]
    },
    {
      "cell_type": "code",
      "metadata": {
        "id": "J6uQEIE8AAZ1",
        "outputId": "3ace93be-8d33-4648-a032-ab59a9032036",
        "colab": {
          "base_uri": "https://localhost:8080/"
        }
      },
      "source": [
        "# mount the google drive \n",
        "from google.colab import drive\n",
        "drive.mount('/content/drive/')"
      ],
      "execution_count": null,
      "outputs": [
        {
          "output_type": "stream",
          "text": [
            "Mounted at /content/drive/\n"
          ],
          "name": "stdout"
        }
      ]
    },
    {
      "cell_type": "code",
      "metadata": {
        "id": "bCh7njdJAbUw"
      },
      "source": [
        "import os\n",
        "os.chdir(\"/content/drive/My Drive/road_segmantation/semantic-segmentation\")"
      ],
      "execution_count": null,
      "outputs": []
    },
    {
      "cell_type": "code",
      "metadata": {
        "id": "Odmd9KkBBAdg",
        "outputId": "821ba323-6de6-4b9d-ee11-9f6c825228ca",
        "colab": {
          "base_uri": "https://localhost:8080/"
        }
      },
      "source": [
        "#!git clone https://github.com/subodh-malgonde/semantic-segmentation.git"
      ],
      "execution_count": null,
      "outputs": [
        {
          "output_type": "stream",
          "text": [
            "Cloning into 'semantic-segmentation'...\n",
            "remote: Enumerating objects: 278, done.\u001b[K\n",
            "remote: Total 278 (delta 0), reused 0 (delta 0), pack-reused 278\u001b[K\n",
            "Receiving objects: 100% (278/278), 185.84 KiB | 4.42 MiB/s, done.\n",
            "Resolving deltas: 100% (170/170), done.\n"
          ],
          "name": "stdout"
        }
      ]
    },
    {
      "cell_type": "code",
      "metadata": {
        "id": "Fnf7HY-fO18Z"
      },
      "source": [
        "#!wget https://s3.eu-central-1.amazonaws.com/avg-kitti/data_road.zip\n",
        "#!unzip data_road.zip"
      ],
      "execution_count": null,
      "outputs": []
    },
    {
      "cell_type": "code",
      "metadata": {
        "id": "8D9hPN5PlBOn"
      },
      "source": [
        "# project need to lower version of tf , so ı downgrade tf 2.3 to 1.12\n",
        "#!pip install tensorflow==1.12.0\n",
        "#!pip install scipy==1.2.2"
      ],
      "execution_count": null,
      "outputs": []
    },
    {
      "cell_type": "code",
      "metadata": {
        "id": "IMylRkvNPBP2",
        "outputId": "ac531f87-6f98-4928-9b2b-103c27d91256",
        "colab": {
          "base_uri": "https://localhost:8080/"
        }
      },
      "source": [
        "!python main.py"
      ],
      "execution_count": null,
      "outputs": [
        {
          "output_type": "stream",
          "text": [
            "/usr/local/lib/python3.6/dist-packages/tensorflow/python/framework/dtypes.py:523: FutureWarning: Passing (type, 1) or '1type' as a synonym of type is deprecated; in a future version of numpy, it will be understood as (type, (1,)) / '(1,)type'.\n",
            "  _np_qint8 = np.dtype([(\"qint8\", np.int8, 1)])\n",
            "/usr/local/lib/python3.6/dist-packages/tensorflow/python/framework/dtypes.py:524: FutureWarning: Passing (type, 1) or '1type' as a synonym of type is deprecated; in a future version of numpy, it will be understood as (type, (1,)) / '(1,)type'.\n",
            "  _np_quint8 = np.dtype([(\"quint8\", np.uint8, 1)])\n",
            "/usr/local/lib/python3.6/dist-packages/tensorflow/python/framework/dtypes.py:525: FutureWarning: Passing (type, 1) or '1type' as a synonym of type is deprecated; in a future version of numpy, it will be understood as (type, (1,)) / '(1,)type'.\n",
            "  _np_qint16 = np.dtype([(\"qint16\", np.int16, 1)])\n",
            "/usr/local/lib/python3.6/dist-packages/tensorflow/python/framework/dtypes.py:526: FutureWarning: Passing (type, 1) or '1type' as a synonym of type is deprecated; in a future version of numpy, it will be understood as (type, (1,)) / '(1,)type'.\n",
            "  _np_quint16 = np.dtype([(\"quint16\", np.uint16, 1)])\n",
            "/usr/local/lib/python3.6/dist-packages/tensorflow/python/framework/dtypes.py:527: FutureWarning: Passing (type, 1) or '1type' as a synonym of type is deprecated; in a future version of numpy, it will be understood as (type, (1,)) / '(1,)type'.\n",
            "  _np_qint32 = np.dtype([(\"qint32\", np.int32, 1)])\n",
            "/usr/local/lib/python3.6/dist-packages/tensorflow/python/framework/dtypes.py:532: FutureWarning: Passing (type, 1) or '1type' as a synonym of type is deprecated; in a future version of numpy, it will be understood as (type, (1,)) / '(1,)type'.\n",
            "  np_resource = np.dtype([(\"resource\", np.ubyte, 1)])\n",
            "TensorFlow Version: 1.12.0\n",
            "2020-11-08 20:49:08.271241: I tensorflow/core/platform/cpu_feature_guard.cc:141] Your CPU supports instructions that this TensorFlow binary was not compiled to use: AVX2 FMA\n",
            "main.py:30: UserWarning: No GPU found. Please use a GPU to train your neural network.\n",
            "  warnings.warn('No GPU found. Please use a GPU to train your neural network.')\n",
            "Tests Passed\n",
            "Tests Passed\n",
            "WARNING:tensorflow:From main.py:147: softmax_cross_entropy_with_logits (from tensorflow.python.ops.nn_ops) is deprecated and will be removed in a future version.\n",
            "Instructions for updating:\n",
            "\n",
            "Future major versions of TensorFlow will allow gradients to flow\n",
            "into the labels input on backprop by default.\n",
            "\n",
            "See `tf.nn.softmax_cross_entropy_with_logits_v2`.\n",
            "\n",
            "Tests Passed\n",
            "Number of epochs: 20\n",
            "learning rate: 0.05\n",
            "Keep prob: 1.0\n",
            "Batch size: 8\n",
            "Training mode: True\n",
            "Trasfer learning mode: True\n",
            "Continue training?: False\n",
            "Tests Passed\n",
            "2020-11-08 20:49:11.882687: W tensorflow/core/framework/allocator.cc:122] Allocation of 411041792 exceeds 10% of system memory.\n",
            "2020-11-08 20:49:12.435173: W tensorflow/core/framework/allocator.cc:122] Allocation of 411041792 exceeds 10% of system memory.\n",
            "Actual learning rate: 0.05 , Actual keep prob: 1.0\n",
            "  0% 0/28 [00:00<?, ?it/s]tcmalloc: large alloc 1887674368 bytes == 0xa5f52000 @  0x7fd3c146e1e7 0x7fd3b09a59a5 0x7fd3b3076f09 0x7fd3b32a1e05 0x7fd3b32b5e45 0x7fd3ae43cb26 0x7fd3ae430250 0x7fd3ae4ac52a 0x7fd3ae4ab582 0x7fd3bfd50a50 0x7fd3c0e326db 0x7fd3c116ba3f\n",
            "  4% 1/28 [00:24<11:03, 24.57s/it]tcmalloc: large alloc 1887674368 bytes == 0xa5f52000 @  0x7fd3c146e1e7 0x7fd3b09a59a5 0x7fd3b3076f09 0x7fd3b32a1e05 0x7fd3b32b5e45 0x7fd3ae43cb26 0x7fd3ae430250 0x7fd3ae4ac52a 0x7fd3ae4ab582 0x7fd3bfd50a50 0x7fd3c0e326db 0x7fd3c116ba3f\n",
            "  7% 2/28 [00:48<10:34, 24.40s/it]tcmalloc: large alloc 1887674368 bytes == 0xa5f52000 @  0x7fd3c146e1e7 0x7fd3b09a59a5 0x7fd3b3076f09 0x7fd3b32a1e05 0x7fd3b32b5e45 0x7fd3ae43cb26 0x7fd3ae430250 0x7fd3ae4ac52a 0x7fd3ae4ab582 0x7fd3bfd50a50 0x7fd3c0e326db 0x7fd3c116ba3f\n",
            " 11% 3/28 [01:12<10:03, 24.15s/it]tcmalloc: large alloc 1887674368 bytes == 0xa5f52000 @  0x7fd3c146e1e7 0x7fd3b09a59a5 0x7fd3b3076f09 0x7fd3b32a1e05 0x7fd3b32b5e45 0x7fd3ae43cb26 0x7fd3ae430250 0x7fd3ae4ac52a 0x7fd3ae4ab582 0x7fd3bfd50a50 0x7fd3c0e326db 0x7fd3c116ba3f\n",
            " 14% 4/28 [01:36<09:41, 24.24s/it]tcmalloc: large alloc 1887674368 bytes == 0xa5f52000 @  0x7fd3c146e1e7 0x7fd3b09a59a5 0x7fd3b3076f09 0x7fd3b32a1e05 0x7fd3b32b5e45 0x7fd3ae43cb26 0x7fd3ae430250 0x7fd3ae4ac52a 0x7fd3ae4ab582 0x7fd3bfd50a50 0x7fd3c0e326db 0x7fd3c116ba3f\n",
            "100% 28/28 [11:03<00:00, 23.69s/it]\n",
            "Epoch 1: Training loss: 0.4621, accuracy: 0.85 Validation loss: 0.4632, accuracy: 0.85\n",
            "100% 28/28 [08:12<00:00, 17.58s/it]\n"
          ],
          "name": "stdout"
        }
      ]
    },
    {
      "cell_type": "code",
      "metadata": {
        "id": "GTq5-wciilQB"
      },
      "source": [
        ""
      ],
      "execution_count": null,
      "outputs": []
    }
  ]
}